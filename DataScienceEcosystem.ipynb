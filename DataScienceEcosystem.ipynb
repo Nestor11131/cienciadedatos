{
  "metadata": {
    "kernelspec": {
      "name": "python",
      "display_name": "Python (Pyodide)",
      "language": "python"
    },
    "language_info": {
      "codemirror_mode": {
        "name": "python",
        "version": 3
      },
      "file_extension": ".py",
      "mimetype": "text/x-python",
      "name": "python",
      "nbconvert_exporter": "python",
      "pygments_lexer": "ipython3",
      "version": "3.8"
    }
  },
  "nbformat_minor": 5,
  "nbformat": 4,
  "cells": [
    {
      "id": "ee0a42ed-5858-4fd5-b992-4385938c5ca0",
      "cell_type": "markdown",
      "source": "# Data science tools and ecosystems ",
      "metadata": {}
    },
    {
      "id": "4431e7dc-faac-458b-9e7e-8799ebf07a11",
      "cell_type": "markdown",
      "source": "__objetivos:__\n- Automatizacion de procesos del ecosistema\n- Automatizar flujo de trabajo\n- Bibliotecas mas comunes\n  ",
      "metadata": {}
    },
    {
      "id": "74d78112-b9a1-46dd-bf1d-0a518d7ba37b",
      "cell_type": "markdown",
      "source": "En este cuaderno, se resumen las herraminetas y ecosistemas de cienca de datos",
      "metadata": {}
    },
    {
      "id": "94a9fb2a-240b-4eb3-a4e2-c3f4819dc93a",
      "cell_type": "markdown",
      "source": "Algunos de los lenguajes populares que utilizan los cientificos de datos son: \n1. Python\n2. R\n3. SQL",
      "metadata": {}
    },
    {
      "id": "722a04ae-c33a-42cf-a5f2-1242be24248b",
      "cell_type": "markdown",
      "source": "Algunas de las bibliotecas comunmente utilizadas por los cientificos de datos incluyen: \n1. Pandas\n2. Numpy\n3. Scikit-learn\n   ",
      "metadata": {}
    },
    {
      "id": "100d18ea-0284-4f2c-b847-44bdf6211d95",
      "cell_type": "markdown",
      "source": "| Herramientas de ciencia de datos |\n| ------ |\n| Jupyter | \n| VS Code |\n| Apache spark|",
      "metadata": {}
    },
    {
      "id": "9cadb629-e219-4ee1-8cdc-3db7111caeab",
      "cell_type": "markdown",
      "source": "### A continuacion, se presentan algunos ejemplos de evaluacion de expresiones aritméticas en python",
      "metadata": {}
    },
    {
      "id": "6564c7d8-cef7-434f-a2a4-7ccb7fd8f9a5",
      "cell_type": "code",
      "source": "# esta es una expresion aritmetica simple para multiplicar yluego sumar enteros.\n(3*4)+5",
      "metadata": {},
      "outputs": [
        {
          "data": {
            "text/plain": [
              "17"
            ]
          },
          "execution_count": 2,
          "metadata": {},
          "output_type": "execute_result"
        }
      ],
      "execution_count": 2
    },
    {
      "id": "6165b188-ad07-424a-8411-5735a069ac5a",
      "cell_type": "code",
      "source": "#esto convertira 200 minutos en horas\n200/60",
      "metadata": {},
      "outputs": [
        {
          "data": {
            "text/plain": [
              "3.3333333333333335"
            ]
          },
          "execution_count": 3,
          "metadata": {},
          "output_type": "execute_result"
        }
      ],
      "execution_count": 3
    },
    {
      "id": "97017ce3-a6cf-4384-ad9e-732ec584618a",
      "cell_type": "markdown",
      "source": "## Autor\nNestor Muñoz Ramirez",
      "metadata": {}
    }
  ]
}